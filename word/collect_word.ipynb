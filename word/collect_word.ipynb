{
 "cells": [
  {
   "cell_type": "code",
   "execution_count": 128,
   "metadata": {},
   "outputs": [],
   "source": [
    "import requests\n",
    "from bs4 import BeautifulSoup\n",
    "import time\n",
    "import pandas as pd"
   ]
  },
  {
   "cell_type": "code",
   "execution_count": 129,
   "metadata": {},
   "outputs": [],
   "source": [
    "url = \"https://toiguru.jp/toeic-vocabulary-list\"\n",
    "res = requests.get(url)\n",
    "soup = BeautifulSoup(res.content, \"lxml\")\n",
    "# soup"
   ]
  },
  {
   "cell_type": "code",
   "execution_count": 130,
   "metadata": {},
   "outputs": [],
   "source": [
    "tables = soup.find_all(\"table\")\n",
    "# tables"
   ]
  },
  {
   "cell_type": "code",
   "execution_count": 132,
   "metadata": {},
   "outputs": [],
   "source": [
    "word_list_1 = []\n",
    "for table in tables:\n",
    "    for td in table.find_all(\"td\"):\n",
    "        tmp = str(td).split(\"<br/>\")\n",
    "        if len(tmp) != 2:\n",
    "#             print(tmp)\n",
    "            continue\n",
    "#         print(tmp)\n",
    "        word = tmp[0][4:]\n",
    "        meaning = tmp[1][:-5]\n",
    "        # print(word, meaning)\n",
    "        word_list_1.append({word:meaning})\n",
    "word_list_1.append({\"neither\":\"どちらも…でない\"})\n",
    "word_list_1.append({\"enclose\":\"同封する\"})\n",
    "# word_list_1"
   ]
  },
  {
   "cell_type": "code",
   "execution_count": 88,
   "metadata": {},
   "outputs": [
    {
     "data": {
      "text/plain": [
       "1000"
      ]
     },
     "execution_count": 88,
     "metadata": {},
     "output_type": "execute_result"
    }
   ],
   "source": [
    "len(word_list_1)"
   ]
  },
  {
   "cell_type": "code",
   "execution_count": 89,
   "metadata": {},
   "outputs": [],
   "source": [
    "url = \"https://englishlevelup.net/toeic-word-list/\"\n",
    "res = requests.get(url)\n",
    "soup = BeautifulSoup(res.content, \"lxml\")\n",
    "# soup"
   ]
  },
  {
   "cell_type": "code",
   "execution_count": 90,
   "metadata": {},
   "outputs": [],
   "source": [
    "tables = soup.find_all(\"table\")\n",
    "# tables"
   ]
  },
  {
   "cell_type": "code",
   "execution_count": 91,
   "metadata": {},
   "outputs": [],
   "source": [
    "word_list_2 = []\n",
    "for table in tables:\n",
    "    for i, td in enumerate(table.find_all(\"td\")):\n",
    "#         print(i, td.text)\n",
    "        if i % 2 == 0:\n",
    "            k = td.text\n",
    "        else:\n",
    "            word_list_2.append({k:td.text})\n",
    "# word_list_2"
   ]
  },
  {
   "cell_type": "code",
   "execution_count": 92,
   "metadata": {},
   "outputs": [
    {
     "data": {
      "text/plain": [
       "2000"
      ]
     },
     "execution_count": 92,
     "metadata": {},
     "output_type": "execute_result"
    }
   ],
   "source": [
    "len(word_list_2)"
   ]
  },
  {
   "cell_type": "code",
   "execution_count": 93,
   "metadata": {},
   "outputs": [],
   "source": [
    "url = \"https://english.kohsukenemoto.com/toeic/toeic-vocabulary/lists/\"\n",
    "res = requests.get(url)\n",
    "soup = BeautifulSoup(res.content, \"lxml\")\n",
    "# soup"
   ]
  },
  {
   "cell_type": "code",
   "execution_count": 94,
   "metadata": {},
   "outputs": [],
   "source": [
    "tables = soup.find_all(\"table\")\n",
    "# tables"
   ]
  },
  {
   "cell_type": "code",
   "execution_count": 95,
   "metadata": {},
   "outputs": [],
   "source": [
    "word_list_3 = []\n",
    "for table in tables:\n",
    "    for i, tr in enumerate(table.find_all(\"tr\")):\n",
    "        if i == 0:\n",
    "            continue\n",
    "        tds = tr.find_all(\"td\")\n",
    "        word_list_3.append({tds[0].text:tds[1].text})\n",
    "# word_list_3"
   ]
  },
  {
   "cell_type": "code",
   "execution_count": 96,
   "metadata": {},
   "outputs": [
    {
     "data": {
      "text/plain": [
       "1800"
      ]
     },
     "execution_count": 96,
     "metadata": {},
     "output_type": "execute_result"
    }
   ],
   "source": [
    "len(word_list_3)"
   ]
  },
  {
   "cell_type": "code",
   "execution_count": 97,
   "metadata": {},
   "outputs": [],
   "source": [
    "url = \"http://www.eigo-duke.com/tango/TOEIC1-300.html\"\n",
    "res = requests.get(url)\n",
    "soup = BeautifulSoup(res.content, \"lxml\")\n",
    "# soup"
   ]
  },
  {
   "cell_type": "code",
   "execution_count": 98,
   "metadata": {},
   "outputs": [
    {
     "data": {
      "text/plain": [
       "['TOEIC1-300.html',\n",
       " 'TOEIC301-600.html',\n",
       " 'TOEIC601-900.html',\n",
       " 'TOEIC901-1200.html',\n",
       " 'TOEIC1201-1500.html',\n",
       " 'TOEIC1501-1800.html',\n",
       " 'TOEIC1801-2100.html',\n",
       " 'TOEIC2101-2400.html',\n",
       " 'TOEIC2401-2700.html',\n",
       " 'TOEIC2701-3000.html']"
      ]
     },
     "execution_count": 98,
     "metadata": {},
     "output_type": "execute_result"
    }
   ],
   "source": [
    "hrefs = [a[\"href\"] for a in soup.find(\"table\").find_all(\"table\")[1].find(\"td\").find_all(\"a\")]\n",
    "hrefs"
   ]
  },
  {
   "cell_type": "code",
   "execution_count": 99,
   "metadata": {},
   "outputs": [],
   "source": [
    "word_list_4 = []\n",
    "for href in hrefs:\n",
    "    time.sleep(1)\n",
    "    url = \"http://www.eigo-duke.com/tango/\" + href\n",
    "    res = requests.get(url)\n",
    "    soup = BeautifulSoup(res.content, \"lxml\")\n",
    "    for i in range(3,6):\n",
    "        # print(len(soup.find(\"table\").find_all(\"table\")[i].find_all(\"tr\")[3:]))\n",
    "        for tr in soup.find(\"table\").find_all(\"table\")[i].find_all(\"tr\")[3:]:\n",
    "            tds = tr.find_all(\"td\")\n",
    "    #         print(tds[2].text, tds[3].text)\n",
    "            word_list_4.append({tds[2].text:tds[3].text})\n",
    "# word_list_4"
   ]
  },
  {
   "cell_type": "code",
   "execution_count": 100,
   "metadata": {},
   "outputs": [
    {
     "data": {
      "text/plain": [
       "3001"
      ]
     },
     "execution_count": 100,
     "metadata": {},
     "output_type": "execute_result"
    }
   ],
   "source": [
    "len(word_list_4)"
   ]
  },
  {
   "cell_type": "code",
   "execution_count": 101,
   "metadata": {},
   "outputs": [
    {
     "data": {
      "text/plain": [
       "True"
      ]
     },
     "execution_count": 101,
     "metadata": {},
     "output_type": "execute_result"
    }
   ],
   "source": [
    "{'英語': '日本語'} in word_list_4"
   ]
  },
  {
   "cell_type": "code",
   "execution_count": 102,
   "metadata": {},
   "outputs": [],
   "source": [
    "word_list_4.remove({'英語': '日本語'})"
   ]
  },
  {
   "cell_type": "code",
   "execution_count": 103,
   "metadata": {},
   "outputs": [
    {
     "data": {
      "text/plain": [
       "False"
      ]
     },
     "execution_count": 103,
     "metadata": {},
     "output_type": "execute_result"
    }
   ],
   "source": [
    "{'英語': '日本語'} in word_list_4"
   ]
  },
  {
   "cell_type": "code",
   "execution_count": 104,
   "metadata": {},
   "outputs": [
    {
     "data": {
      "text/plain": [
       "7800"
      ]
     },
     "execution_count": 104,
     "metadata": {},
     "output_type": "execute_result"
    }
   ],
   "source": [
    "word_list = []\n",
    "word_list = word_list_1 + word_list_2 + word_list_3 + word_list_4\n",
    "len(word_list)"
   ]
  },
  {
   "cell_type": "code",
   "execution_count": 105,
   "metadata": {},
   "outputs": [
    {
     "data": {
      "text/plain": [
       "'survey'"
      ]
     },
     "execution_count": 105,
     "metadata": {},
     "output_type": "execute_result"
    }
   ],
   "source": [
    "list(word_list[0].keys())[0]"
   ]
  },
  {
   "cell_type": "code",
   "execution_count": 119,
   "metadata": {},
   "outputs": [],
   "source": [
    "word_dict = {list(d.keys())[0]:list(d.values())[0] for d in word_list}\n",
    "# word_dict"
   ]
  },
  {
   "cell_type": "code",
   "execution_count": 122,
   "metadata": {
    "tags": []
   },
   "outputs": [
    {
     "data": {
      "text/plain": [
       "4972"
      ]
     },
     "execution_count": 122,
     "metadata": {},
     "output_type": "execute_result"
    }
   ],
   "source": [
    "word_dict = {}\n",
    "for i, d in enumerate(word_list):\n",
    "    d_list = list(d.items())[0]\n",
    "    if d_list[0] in word_dict:\n",
    "        word_dict[d_list[0]] = word_dict[d_list[0]] + \",\" + d_list[1]\n",
    "    else:\n",
    "        word_dict[d_list[0]] = d_list[1]\n",
    "len(list(word_dict.items()))"
   ]
  },
  {
   "cell_type": "code",
   "execution_count": 123,
   "metadata": {},
   "outputs": [
    {
     "data": {
      "text/plain": [
       "4972"
      ]
     },
     "execution_count": 123,
     "metadata": {},
     "output_type": "execute_result"
    }
   ],
   "source": [
    "len(word_dict.items())"
   ]
  },
  {
   "cell_type": "code",
   "execution_count": 124,
   "metadata": {},
   "outputs": [
    {
     "data": {
      "text/html": [
       "<div>\n",
       "<style scoped>\n",
       "    .dataframe tbody tr th:only-of-type {\n",
       "        vertical-align: middle;\n",
       "    }\n",
       "\n",
       "    .dataframe tbody tr th {\n",
       "        vertical-align: top;\n",
       "    }\n",
       "\n",
       "    .dataframe thead th {\n",
       "        text-align: right;\n",
       "    }\n",
       "</style>\n",
       "<table border=\"1\" class=\"dataframe\">\n",
       "  <thead>\n",
       "    <tr style=\"text-align: right;\">\n",
       "      <th></th>\n",
       "      <th>単語</th>\n",
       "      <th>意味</th>\n",
       "    </tr>\n",
       "  </thead>\n",
       "  <tbody>\n",
       "    <tr>\n",
       "      <th>0</th>\n",
       "      <td>survey</td>\n",
       "      <td>調査,調査／~を調査する,調査,調査</td>\n",
       "    </tr>\n",
       "    <tr>\n",
       "      <th>1</th>\n",
       "      <td>interview</td>\n",
       "      <td>面接,面接する、会見する,面接(する),インタビュー</td>\n",
       "    </tr>\n",
       "    <tr>\n",
       "      <th>2</th>\n",
       "      <td>exhibition</td>\n",
       "      <td>展示,展示会、展示物、展示,展示</td>\n",
       "    </tr>\n",
       "    <tr>\n",
       "      <th>3</th>\n",
       "      <td>conference</td>\n",
       "      <td>会議,会議、学会,会議,会議</td>\n",
       "    </tr>\n",
       "    <tr>\n",
       "      <th>4</th>\n",
       "      <td>available</td>\n",
       "      <td>利用できる,入手できる、利用できる、購入できる、,利用可能な、入手可能な,利用可能な</td>\n",
       "    </tr>\n",
       "  </tbody>\n",
       "</table>\n",
       "</div>"
      ],
      "text/plain": [
       "           単語                                          意味\n",
       "0      survey                          調査,調査／~を調査する,調査,調査\n",
       "1   interview                  面接,面接する、会見する,面接(する),インタビュー\n",
       "2  exhibition                            展示,展示会、展示物、展示,展示\n",
       "3  conference                              会議,会議、学会,会議,会議\n",
       "4   available  利用できる,入手できる、利用できる、購入できる、,利用可能な、入手可能な,利用可能な"
      ]
     },
     "execution_count": 124,
     "metadata": {},
     "output_type": "execute_result"
    }
   ],
   "source": [
    "word_df = pd.DataFrame(list(word_dict.items()), columns=[\"単語\", \"意味\"])\n",
    "word_df.head()"
   ]
  },
  {
   "cell_type": "code",
   "execution_count": 125,
   "metadata": {},
   "outputs": [
    {
     "data": {
      "text/plain": [
       "4972"
      ]
     },
     "execution_count": 125,
     "metadata": {},
     "output_type": "execute_result"
    }
   ],
   "source": [
    "len(word_df)"
   ]
  },
  {
   "cell_type": "code",
   "execution_count": 126,
   "metadata": {},
   "outputs": [],
   "source": [
    "word_df.to_csv(\"collect_word.csv\", encoding=\"utf-8-sig\")"
   ]
  },
  {
   "cell_type": "code",
   "execution_count": null,
   "metadata": {},
   "outputs": [],
   "source": []
  }
 ],
 "metadata": {
  "kernelspec": {
   "display_name": "Python 3",
   "language": "python",
   "name": "python3"
  },
  "language_info": {
   "codemirror_mode": {
    "name": "ipython",
    "version": 3
   },
   "file_extension": ".py",
   "mimetype": "text/x-python",
   "name": "python",
   "nbconvert_exporter": "python",
   "pygments_lexer": "ipython3",
   "version": "3.7.0"
  }
 },
 "nbformat": 4,
 "nbformat_minor": 4
}
